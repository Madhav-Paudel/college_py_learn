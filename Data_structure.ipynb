{
 "cells": [
  {
   "cell_type": "markdown",
   "metadata": {},
   "source": [
    "# List"
   ]
  },
  {
   "cell_type": "code",
   "execution_count": 6,
   "metadata": {},
   "outputs": [
    {
     "name": "stdout",
     "output_type": "stream",
     "text": [
      "[1, 2, 3, 10, 4, 5, 0, 6]\n",
      "[1, 2, 3, 10, 4, 5, 6]\n",
      "[1, 2, 3, 4, 5, 6, 10]\n",
      "[10, 6, 5, 4, 3, 2, 1]\n",
      "[10, 11, 5, 4, 3, 2, 1]\n"
     ]
    }
   ],
   "source": [
    "# Lists : Mutable, ordered,indexing,slicing, methods (append(),remove(),sort(),reversed()) \n",
    "my_list=[1,2,3,10,4,5,0]\n",
    "my_list.append(6)\n",
    "print(my_list)\n",
    "my_list.remove(0)\n",
    "print(my_list)\n",
    "my_list.sort()\n",
    "print(my_list)\n",
    "my_list.reverse()\n",
    "print(my_list)\n",
    "# list ma kunai number kati choti occur bho \n",
    "my_list.count(5)\n",
    "# my_list[1]=11\n",
    "# print(my_list)\n",
    "\n",
    "\n"
   ]
  },
  {
   "cell_type": "markdown",
   "metadata": {},
   "source": [
    "# Tuples"
   ]
  },
  {
   "cell_type": "code",
   "execution_count": 10,
   "metadata": {},
   "outputs": [
    {
     "name": "stdout",
     "output_type": "stream",
     "text": [
      "tuple (1, 2, 3, 4, 7, 8)\n",
      "counting the no of 3 in the tuple 1\n",
      "(1, 2, 3, 4, 7, 8, 10, 25, 5, 6)\n"
     ]
    }
   ],
   "source": [
    "# Tuples : Immutable,ordered,packing and unpacking, count(), index()\n",
    "my_tuples=(1,2,3,4,7,8)\n",
    "print(\"tuple\",my_tuples)\n",
    "print(\"counting the no of 3 in the tuple\",my_tuples.count(2))\n",
    "# we cant copy the the tuples \n",
    "# mm=()\n",
    "# mm.copy(my_tuples)\n",
    "# we cant append \n",
    "# my_tuples.append(5)\n",
    "print(my_tuples+(10,25,5,6,))\n",
    "\n"
   ]
  },
  {
   "cell_type": "markdown",
   "metadata": {},
   "source": [
    "# sets "
   ]
  },
  {
   "cell_type": "code",
   "execution_count": 11,
   "metadata": {},
   "outputs": [
    {
     "ename": "NameError",
     "evalue": "name 'another_set' is not defined",
     "output_type": "error",
     "traceback": [
      "\u001b[1;31m---------------------------------------------------------------------------\u001b[0m",
      "\u001b[1;31mNameError\u001b[0m                                 Traceback (most recent call last)",
      "Cell \u001b[1;32mIn[11], line 5\u001b[0m\n\u001b[0;32m      3\u001b[0m my_set\u001b[38;5;241m.\u001b[39madd(\u001b[38;5;241m5\u001b[39m)\n\u001b[0;32m      4\u001b[0m my_set\u001b[38;5;241m.\u001b[39mremove(\u001b[38;5;241m2\u001b[39m)\n\u001b[1;32m----> 5\u001b[0m \u001b[43manother_set\u001b[49m\u001b[38;5;241m-\u001b[39m(\u001b[38;5;241m4\u001b[39m,\u001b[38;5;241m5\u001b[39m,\u001b[38;5;241m6\u001b[39m,\u001b[38;5;241m7\u001b[39m,\u001b[38;5;241m8\u001b[39m,)\n\u001b[0;32m      6\u001b[0m \u001b[38;5;66;03m# printing the set \u001b[39;00m\n\u001b[0;32m      7\u001b[0m \u001b[38;5;28mprint\u001b[39m(my_set)\n",
      "\u001b[1;31mNameError\u001b[0m: name 'another_set' is not defined"
     ]
    }
   ],
   "source": [
    "# Sets: unordered, unique elements,set operations (union, intersection, difference )\n",
    "my_set={1,2,3,4,5}\n",
    "my_set.add(5)\n",
    "my_set.remove(2)\n",
    "another_set={4,5,6,7,8,10}\n",
    "# printing the set \n",
    "print(my_set)\n",
    "# printing union \n",
    "print(my_set.union(another_set))\n",
    "# printing intersection \n",
    "print(my_set.intersection(another_set))\n",
    "# printing difference \n",
    "print(my_set.difference(another_set))\n"
   ]
  },
  {
   "cell_type": "code",
   "execution_count": 16,
   "metadata": {},
   "outputs": [
    {
     "name": "stdout",
     "output_type": "stream",
     "text": [
      "{1}\n"
     ]
    },
    {
     "ename": "TypeError",
     "evalue": "list.append() takes exactly one argument (5 given)",
     "output_type": "error",
     "traceback": [
      "\u001b[1;31m---------------------------------------------------------------------------\u001b[0m",
      "\u001b[1;31mTypeError\u001b[0m                                 Traceback (most recent call last)",
      "Cell \u001b[1;32mIn[16], line 6\u001b[0m\n\u001b[0;32m      4\u001b[0m \u001b[38;5;66;03m# converting set into list \u001b[39;00m\n\u001b[0;32m      5\u001b[0m first_st\u001b[38;5;241m=\u001b[39m\u001b[38;5;28mlist\u001b[39m(first_set)\n\u001b[1;32m----> 6\u001b[0m \u001b[43mfirst_st\u001b[49m\u001b[38;5;241;43m.\u001b[39;49m\u001b[43mappend\u001b[49m\u001b[43m(\u001b[49m\u001b[38;5;241;43m7\u001b[39;49m\u001b[43m,\u001b[49m\u001b[38;5;241;43m8\u001b[39;49m\u001b[43m,\u001b[49m\u001b[38;5;241;43m9\u001b[39;49m\u001b[43m,\u001b[49m\u001b[38;5;241;43m1\u001b[39;49m\u001b[43m,\u001b[49m\u001b[38;5;241;43m0\u001b[39;49m\u001b[43m)\u001b[49m\n\u001b[0;32m      7\u001b[0m \u001b[38;5;28mprint\u001b[39m(first_st)\n",
      "\u001b[1;31mTypeError\u001b[0m: list.append() takes exactly one argument (5 given)"
     ]
    }
   ],
   "source": [
    "first_set={1,2,3,4}\n",
    "second_set={2,4,3,5}\n",
    "print(first_set-second_set)\n",
    "# converting set into list \n",
    "first_st=list(first_set)\n",
    "# first_st.append(7,8,9,1,0)\n",
    "print(first_st)"
   ]
  },
  {
   "cell_type": "markdown",
   "metadata": {},
   "source": [
    "# Dictionaries \n"
   ]
  },
  {
   "cell_type": "code",
   "execution_count": 17,
   "metadata": {},
   "outputs": [
    {
     "name": "stdout",
     "output_type": "stream",
     "text": [
      "{'name': 'Madhav', 'age': 27, 'gender': 'M'}\n",
      "{'name': 'Madhav', 'age': 20, 'gender': 'M', 'location': 'bansgadhi'}\n",
      "dict_keys(['name', 'age', 'gender', 'location'])\n",
      "dict_values(['Madhav', 20, 'M', 'bansgadhi'])\n",
      "dict_items([('name', 'Madhav'), ('age', 20), ('gender', 'M'), ('location', 'bansgadhi')])\n"
     ]
    }
   ],
   "source": [
    "# Dictionaries : key-value pairs, accessing/modifying elements,dictionary\n",
    "dictionary_Name={'name':'Madhav',\n",
    "       'age':27,\n",
    "       'gender':'M'\n",
    "       }\n",
    "# printing dictionary\n",
    "print(dictionary_Name)\n",
    "dictionary_Name['age']=20\n",
    "# after updating \n",
    "dictionary_Name.update({'location':'bansgadhi'})\n",
    "print(dictionary_Name)\n",
    "# printing key \n",
    "print(dictionary_Name.keys())\n",
    "# printing value \n",
    "print(dictionary_Name.values()) \n",
    "# printing items\n",
    "print(dictionary_Name.items())\n"
   ]
  },
  {
   "cell_type": "markdown",
   "metadata": {},
   "source": [
    "# List Comprehensions \n"
   ]
  },
  {
   "cell_type": "code",
   "execution_count": 18,
   "metadata": {},
   "outputs": [
    {
     "name": "stdout",
     "output_type": "stream",
     "text": [
      "[4, 5, 6, 7, 8]\n"
     ]
    }
   ],
   "source": [
    "# adding 3 in the list elements \n",
    "my_list=[1,2,3,4,5]\n",
    "my_list=[ x+3 for x in my_list]\n",
    "print(my_list)"
   ]
  },
  {
   "cell_type": "code",
   "execution_count": 19,
   "metadata": {},
   "outputs": [
    {
     "name": "stdout",
     "output_type": "stream",
     "text": [
      "List of even number:[4, 16, 36, 64]\n"
     ]
    }
   ],
   "source": [
    "# conditional comprehensions \n",
    "even_squares=[x**2 for x in range(1,10) if x %2 ==0]\n",
    "print(f\"List of even number:{even_squares}\")"
   ]
  },
  {
   "cell_type": "markdown",
   "metadata": {},
   "source": [
    "# conditional comprehensions (if-else)"
   ]
  },
  {
   "cell_type": "code",
   "execution_count": 20,
   "metadata": {},
   "outputs": [
    {
     "name": "stdout",
     "output_type": "stream",
     "text": [
      "odd or even ['odd', 'even', 'odd', 'even', 'odd', 'even', 'odd', 'even', 'odd']\n"
     ]
    }
   ],
   "source": [
    "# conditional comprehensions \n",
    "odd_even=[\"even\"if x%2== 0 else \"odd\" for x in range(1,10)]\n",
    "print(f\"odd or even {odd_even}\")"
   ]
  },
  {
   "cell_type": "markdown",
   "metadata": {},
   "source": [
    "# Nested comprehensions "
   ]
  },
  {
   "cell_type": "code",
   "execution_count": 21,
   "metadata": {},
   "outputs": [
    {
     "name": "stdout",
     "output_type": "stream",
     "text": [
      "Matrix: [[0, 1, 2, 3, 4], [0, 1, 2, 3, 4], [0, 1, 2, 3, 4]]\n"
     ]
    }
   ],
   "source": [
    "# nested comprehensions \n",
    "matrix=[[j for j in range(5)] for i in range(3)]\n",
    "print(\"Matrix:\",matrix)"
   ]
  },
  {
   "cell_type": "markdown",
   "metadata": {},
   "source": [
    "# Dictionary Comprehensions "
   ]
  },
  {
   "cell_type": "code",
   "execution_count": 22,
   "metadata": {},
   "outputs": [
    {
     "name": "stdout",
     "output_type": "stream",
     "text": [
      "{0: 0, 1: 1, 2: 4, 3: 9, 4: 16, 5: 25, 6: 36, 7: 49, 8: 64, 9: 81}\n"
     ]
    }
   ],
   "source": [
    "# basic syntax \n",
    "squares_dict={x: x**2 for x in range(10)}\n",
    "# printing squares dictionary \n",
    "print(squares_dict)"
   ]
  },
  {
   "cell_type": "code",
   "execution_count": 24,
   "metadata": {},
   "outputs": [
    {
     "name": "stdout",
     "output_type": "stream",
     "text": [
      "{0: 0, 2: 4, 4: 16, 6: 36, 8: 64}\n"
     ]
    }
   ],
   "source": [
    "# Condional comprehensions (if)\n",
    "even_squares_dict={x: x**2 for x in range(10) if x % 2==0}\n",
    "print(even_squares_dict)"
   ]
  },
  {
   "cell_type": "code",
   "execution_count": 25,
   "metadata": {},
   "outputs": [
    {
     "name": "stdout",
     "output_type": "stream",
     "text": [
      "list item: 4\n",
      "list item: 5\n",
      "list item: 6\n",
      "list item: 7\n",
      "list item: 8\n",
      "set item: 1\n",
      "set item: 3\n",
      "set item: 4\n",
      "set item: 5\n",
      "Dictionary Key:name,value:Madhav\n",
      "Dictionary Key:age,value:20\n",
      "Dictionary Key:gender,value:M\n",
      "Dictionary Key:location,value:bansgadhi\n"
     ]
    }
   ],
   "source": [
    "# Iteration through a list \n",
    "for item in my_list:\n",
    "    print(f\"list item: {item}\")\n",
    "# Iteration through a set \n",
    "for item in my_set:\n",
    "    print(f\"set item: {item}\")\n",
    "# iterating through a dictionary \n",
    "for key,value in dictionary_Name.items():\n",
    "    print(f\"Dictionary Key:{key},value:{value}\")\n"
   ]
  },
  {
   "cell_type": "markdown",
   "metadata": {},
   "source": [
    "# List Operations \n"
   ]
  },
  {
   "cell_type": "code",
   "execution_count": 26,
   "metadata": {},
   "outputs": [
    {
     "name": "stdout",
     "output_type": "stream",
     "text": [
      "List: [10, 5, 3, 4, 7, 8, 9]\n",
      "Length: 7\n",
      "Minimum: 3\n",
      "Minimum 10\n",
      "sum: 46\n",
      "sorting list :[3, 4, 5, 7, 8, 9, 10]\n"
     ]
    }
   ],
   "source": [
    "my_list=[10,5,3,4,7,8,9]\n",
    "print(\"List:\",my_list)\n",
    "print(\"Length:\",len(my_list))\n",
    "print(\"Minimum:\",min(my_list))\n",
    "print(\"Minimum\",max(my_list))\n",
    "print(\"sum:\",sum(my_list))\n",
    "print(f\"sorting list :{sorted(my_list)}\")"
   ]
  },
  {
   "cell_type": "markdown",
   "metadata": {},
   "source": [
    "# Set Operation "
   ]
  },
  {
   "cell_type": "code",
   "execution_count": 27,
   "metadata": {},
   "outputs": [
    {
     "name": "stdout",
     "output_type": "stream",
     "text": [
      "List: {3, 4, 5, 7, 8, 9, 10}\n",
      "Length: 7\n",
      "Minimum: 3\n",
      "Minimum 10\n",
      "sum: 46\n",
      "sorting list :[3, 4, 5, 7, 8, 9, 10]\n",
      "\n"
     ]
    }
   ],
   "source": [
    "my_set={10,5,3,4,7,8,9}\n",
    "print(\"List:\",my_set)\n",
    "print(\"Length:\",len(my_set))\n",
    "print(\"Minimum:\",min(my_set))\n",
    "print(\"Minimum\",max(my_set))\n",
    "print(\"sum:\",sum(my_set))\n",
    "print(f\"sorting list :{sorted(my_set)}\")\n",
    "print(f\"\")"
   ]
  },
  {
   "cell_type": "markdown",
   "metadata": {},
   "source": [
    "# Dictonary Operation\n"
   ]
  },
  {
   "cell_type": "code",
   "execution_count": null,
   "metadata": {},
   "outputs": [],
   "source": [
    "simple_dictionary={}"
   ]
  }
 ],
 "metadata": {
  "kernelspec": {
   "display_name": "Python 3",
   "language": "python",
   "name": "python3"
  },
  "language_info": {
   "codemirror_mode": {
    "name": "ipython",
    "version": 3
   },
   "file_extension": ".py",
   "mimetype": "text/x-python",
   "name": "python",
   "nbconvert_exporter": "python",
   "pygments_lexer": "ipython3",
   "version": "3.12.9"
  }
 },
 "nbformat": 4,
 "nbformat_minor": 2
}
