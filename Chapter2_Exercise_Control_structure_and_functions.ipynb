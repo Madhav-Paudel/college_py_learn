{
 "cells": [
  {
   "cell_type": "markdown",
   "metadata": {
    "id": "0lhZuwTzS3pN"
   },
   "source": [
    "### Utilize all the concepts you learned from chapter 1 and 2.\n",
    "### Feel free to edit and add the tasks."
   ]
  },
  {
   "cell_type": "markdown",
   "metadata": {
    "id": "dlh01mQxS3pO"
   },
   "source": [
    "#### Q1. Write a program that checks if a number is positive, negative, or zero and prints the result.\n"
   ]
  },
  {
   "cell_type": "code",
   "execution_count": 11,
   "metadata": {
    "id": "-VTyMNXxS3pO"
   },
   "outputs": [],
   "source": [
    "# Write your code here.\n",
    "number=int(input(\"enter any number\\n\"))\n",
    "if number==0:\n",
    "    print(\"Number you provide is zero\",end=\" \")\n",
    "elif number<0:\n",
    "    print(f\"{number} is negative number\",end=\" \")\n",
    "else:\n",
    "    print(f\"{number} is positive number\",endl=\" \")\n",
    "    \n",
    "\n",
    "\n"
   ]
  },
  {
   "cell_type": "markdown",
   "metadata": {
    "id": "HVPNKXuvS3pP"
   },
   "source": [
    "### Q2. Write a program that prints the first 10 numbers in the Fibonacci sequence.\n"
   ]
  },
  {
   "cell_type": "code",
   "execution_count": 5,
   "metadata": {
    "id": "r7EXiUlNS3pQ"
   },
   "outputs": [
    {
     "name": "stdout",
     "output_type": "stream",
     "text": [
      "0 1 1 2 3 5 8 13 "
     ]
    }
   ],
   "source": [
    "# Write your code here.\n",
    "# 0 1 1 2 3 5 8 \n",
    "def fibb(num):\n",
    "    if num==0 or num==1:\n",
    "        return num\n",
    "    else:\n",
    "        return fibb(num-1) + fibb(num-2)\n",
    "\n",
    "for i in range(0,8):\n",
    "    print(fibb(i),end=\" \")\n",
    "\n",
    "    \n",
    "\n"
   ]
  },
  {
   "cell_type": "markdown",
   "metadata": {
    "id": "615kABcgS3pQ"
   },
   "source": [
    "### Q3. Write a function that takes a list of numbers and returns the sum of the even numbers in the list.\n"
   ]
  },
  {
   "cell_type": "code",
   "execution_count": 6,
   "metadata": {
    "id": "hQuEo0VsS3pQ"
   },
   "outputs": [
    {
     "name": "stdout",
     "output_type": "stream",
     "text": [
      "45\n"
     ]
    }
   ],
   "source": [
    "# Write your code here.\n",
    "myList=[1,2,3,4,5,6,7,8,9]\n",
    "num=0\n",
    "for x in myList:\n",
    "    num+=x\n",
    "\n",
    "print(num)\n",
    "\n"
   ]
  },
  {
   "cell_type": "markdown",
   "metadata": {
    "id": "DT3IRru7S3pR"
   },
   "source": [
    "### Q4. Write a lambda function that takes two arguments and returns their product.\n"
   ]
  },
  {
   "cell_type": "code",
   "execution_count": 7,
   "metadata": {
    "id": "KpuZnqbzS3pR"
   },
   "outputs": [
    {
     "name": "stdout",
     "output_type": "stream",
     "text": [
      "6\n"
     ]
    }
   ],
   "source": [
    "# Write your code here.\n",
    "x = lambda a, b: a * b\n",
    "print(x(2, 3))"
   ]
  },
  {
   "cell_type": "markdown",
   "metadata": {
    "id": "mRvjJJrXS3pS"
   },
   "source": [
    "### Q5. Write a program that demonstrates the difference between local and global variables.\n"
   ]
  },
  {
   "cell_type": "code",
   "execution_count": 12,
   "metadata": {
    "id": "mXoEMqqtS3pS"
   },
   "outputs": [
    {
     "name": "stdout",
     "output_type": "stream",
     "text": [
      "the global value is 15 \n",
      "the local value is 4\n"
     ]
    }
   ],
   "source": [
    "# Write your code here.\n",
    "x=15\n",
    "def display(num):\n",
    "    print(f\"the global value is {num} \")\n",
    "    num=4\n",
    "    print(f\"the local value is {num}\")\n",
    "\n",
    "display(x)\n"
   ]
  },
  {
   "cell_type": "markdown",
   "metadata": {
    "id": "9dFyymfYS3pS"
   },
   "source": [
    "### Q6. Complete the following function to calculate the factorial of a number using recursion.\n"
   ]
  },
  {
   "cell_type": "code",
   "execution_count": 15,
   "metadata": {
    "id": "ngjCZbuDS3pT"
   },
   "outputs": [
    {
     "name": "stdout",
     "output_type": "stream",
     "text": [
      "the factorial is 120\n"
     ]
    }
   ],
   "source": [
    "def thefactorial(n):\n",
    "    if n == 0:\n",
    "        return 1\n",
    "    else:\n",
    "        return n*factorial(n-1)\n",
    "    \n",
    "value=thefactorial(5)\n",
    "\n",
    "print(f\"the factorial is {value}\")\n"
   ]
  },
  {
   "cell_type": "markdown",
   "metadata": {
    "id": "wXjT5wBCS3pT"
   },
   "source": [
    "### Q7. Write a program that prints numbers from 1 to 10, but skips the number 5 using continue and stops the loop if the number is 8 using break.\n"
   ]
  },
  {
   "cell_type": "code",
   "execution_count": 21,
   "metadata": {
    "id": "h9DBaAH8S3pT"
   },
   "outputs": [
    {
     "name": "stdout",
     "output_type": "stream",
     "text": [
      "1 2 3 4 6 7 8 "
     ]
    }
   ],
   "source": [
    "# Write your code here.\n",
    "for x in range(1,10):\n",
    "    if x==5:\n",
    "     continue\n",
    "    print(x,end=\" \")\n",
    "    if x==8:\n",
    "       break\n"
   ]
  },
  {
   "cell_type": "markdown",
   "metadata": {
    "id": "0JYtkM6SS3pT"
   },
   "source": [
    "### Q8. Write a program that prints a multiplication table for numbers from 1 to 5. [ Using nested loop ]\n"
   ]
  },
  {
   "cell_type": "code",
   "execution_count": 22,
   "metadata": {
    "id": "xB4WeKdbS3pT"
   },
   "outputs": [
    {
     "name": "stdout",
     "output_type": "stream",
     "text": [
      "1x1=1\n",
      "1x2=2\n",
      "1x3=3\n",
      "1x4=4\n",
      "1x5=5\n",
      "1x6=6\n",
      "1x7=7\n",
      "1x8=8\n",
      "1x9=9\n",
      "1x10=10\n",
      " \n",
      "2x1=2\n",
      "2x2=4\n",
      "2x3=6\n",
      "2x4=8\n",
      "2x5=10\n",
      "2x6=12\n",
      "2x7=14\n",
      "2x8=16\n",
      "2x9=18\n",
      "2x10=20\n",
      " \n",
      "3x1=3\n",
      "3x2=6\n",
      "3x3=9\n",
      "3x4=12\n",
      "3x5=15\n",
      "3x6=18\n",
      "3x7=21\n",
      "3x8=24\n",
      "3x9=27\n",
      "3x10=30\n",
      " \n",
      "4x1=4\n",
      "4x2=8\n",
      "4x3=12\n",
      "4x4=16\n",
      "4x5=20\n",
      "4x6=24\n",
      "4x7=28\n",
      "4x8=32\n",
      "4x9=36\n",
      "4x10=40\n",
      " \n",
      "5x1=5\n",
      "5x2=10\n",
      "5x3=15\n",
      "5x4=20\n",
      "5x5=25\n",
      "5x6=30\n",
      "5x7=35\n",
      "5x8=40\n",
      "5x9=45\n",
      "5x10=50\n",
      " \n"
     ]
    }
   ],
   "source": [
    "# Write your code here.\n",
    "for i in range(1,6):\n",
    "    for j in range(1,11):\n",
    "        print(f\"{i}x{j}={i*j}\")\n",
    "    print(\" \")"
   ]
  },
  {
   "cell_type": "markdown",
   "metadata": {
    "id": "26Zzh9AVS3pU"
   },
   "source": [
    "### Q9. Write a list comprehension that generates a list of squares of numbers from 1 to 10.\n"
   ]
  },
  {
   "cell_type": "code",
   "execution_count": 24,
   "metadata": {
    "executionInfo": {
     "elapsed": 1176,
     "status": "ok",
     "timestamp": 1738577589891,
     "user": {
      "displayName": "Sujan Sharma",
      "userId": "04165460406084711982"
     },
     "user_tz": -345
    },
    "id": "1YJIWixjTE7m"
   },
   "outputs": [
    {
     "name": "stdout",
     "output_type": "stream",
     "text": [
      "[1, 4, 9, 16, 25, 36, 49, 64, 81, 100]\n"
     ]
    }
   ],
   "source": [
    "# Write your code here.\n",
    "myList=[1,2,3,4,5,6,7,8,9,10]\n",
    "squareslist=[values**2 for values in myList]\n",
    "print(squareslist)"
   ]
  },
  {
   "cell_type": "markdown",
   "metadata": {
    "id": "Xco6EoeqS3pU"
   },
   "source": [
    "\n",
    "### Q10. Create a dictionary with at least 5 key-value pairs. Implement a search feature to find a value by its key. Use dictionary comprehension to create a new dictionary with keys and values swapped.\n",
    "\n"
   ]
  },
  {
   "cell_type": "code",
   "execution_count": 35,
   "metadata": {
    "id": "6e9M7AxBS3pU",
    "outputId": "84bc14c0-65dd-4979-ef3e-05d326143e80"
   },
   "outputs": [
    {
     "name": "stdout",
     "output_type": "stream",
     "text": [
      "2\n",
      "Invalid Key\n",
      "{1: 'apple', 2: 'banana', 3: 'cherry', 4: 'date', 5: 'mango'}\n"
     ]
    }
   ],
   "source": [
    "\n",
    "my_dict = {\n",
    "    'apple': 1,\n",
    "    'banana': 2,\n",
    "    'cherry': 3,\n",
    "    'date': 4,\n",
    "    'mango': 5\n",
    "}\n",
    "\n",
    "def search_dict(key):\n",
    "    value = my_dict.get(key,\"Invalid Key\")\n",
    "    return value\n",
    "\n",
    "# search feature\n",
    "print(search_dict('banana'))\n",
    "print(search_dict('fig'))\n",
    "\n",
    "# Use dictionary comprehension to create a new dictionary with keys and values swapped\n",
    "# swapped_dict = [(value,key)  for key,value in my_dict]\n",
    "# But for key, value in my_dict is incorrect because iterating over a dictionary directly only gives keys, not key-value pairs.\n",
    "\n",
    "swapped_dict = {value: key for key, value in my_dict.items()}\n",
    "\n",
    "\n",
    "print(swapped_dict)"
   ]
  },
  {
   "cell_type": "markdown",
   "metadata": {
    "id": "YzcJSVNPS3pV"
   },
   "source": [
    "### Q11. Create a program, (use conditional statements, functions, list, dictionary, loops,etc) to make a  simple hangman game. ( You can introduce your own ideas, and expand the program )"
   ]
  },
  {
   "cell_type": "code",
   "execution_count": 38,
   "metadata": {},
   "outputs": [
    {
     "name": "stdout",
     "output_type": "stream",
     "text": [
      "['N', 'E', 'P', 'A', 'L']\n",
      "['E', 'P', 'A', 'L']\n",
      "Your guess is correct!😊\n",
      "you have 4 guess remain\n",
      "['P', 'A', 'L']\n",
      "Your guess is correct!😊\n",
      "you have 3 guess remain\n",
      "['A', 'L']\n",
      "Your guess is correct!😊\n",
      "you have 2 guess remain\n",
      "['L']\n",
      "Your guess is correct!😊\n",
      "you have 1 guess remain\n",
      "[]\n",
      "Your guess is correct!😊\n",
      "😎 you won 🎉\n",
      "5\n"
     ]
    }
   ],
   "source": [
    "string=\"NEPAL\"\n",
    "counter=0\n",
    "# converting string character into list by using list comprehension \n",
    "my_list=[x for x in string]\n",
    "print(my_list)\n",
    "# number of guess \n",
    "x=5 \n",
    "\n",
    "while counter!=5:\n",
    "    user_str=input(\"enter letter:\\n\",).upper()\n",
    "    x-=1\n",
    "    # reducing guess \n",
    "    if user_str in my_list:\n",
    "        counter+=1\n",
    "        my_list.remove(user_str)\n",
    "        print(my_list)\n",
    "        print(\"Your guess is correct!😊\")\n",
    "        \n",
    "    if 0==len(my_list):\n",
    "        print(\"😎 you won 🎉\")\n",
    "        break \n",
    "    \n",
    "    if x==0:\n",
    "        print(\"You lose ❌\" )\n",
    "        break\n",
    "    print(f\"you have {x} guess remain\")\n",
    "    \n",
    "print(counter)"
   ]
  }
 ],
 "metadata": {
  "colab": {
   "provenance": []
  },
  "kernelspec": {
   "display_name": "Python 3",
   "language": "python",
   "name": "python3"
  },
  "language_info": {
   "codemirror_mode": {
    "name": "ipython",
    "version": 3
   },
   "file_extension": ".py",
   "mimetype": "text/x-python",
   "name": "python",
   "nbconvert_exporter": "python",
   "pygments_lexer": "ipython3",
   "version": "3.12.8"
  }
 },
 "nbformat": 4,
 "nbformat_minor": 0
}
