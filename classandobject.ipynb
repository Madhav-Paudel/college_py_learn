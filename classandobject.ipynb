{
 "cells": [
  {
   "cell_type": "markdown",
   "metadata": {},
   "source": [
    "# str class\n",
    "\n"
   ]
  },
  {
   "cell_type": "code",
   "execution_count": null,
   "metadata": {},
   "outputs": [
    {
     "name": "stdout",
     "output_type": "stream",
     "text": [
      "<class 'str'>\n",
      "HELLO(WORLD!\n",
      "hello(world!\n",
      "hello(python!\n",
      "['hello(world!']\n",
      "hello(world!\n",
      "['Find the normalization transformation window to viewport, with window, lower left corner at (1,1) and upper right corner at (3,5) onto a viewport with lower left corner at (0,0) and upper right corner at (2,2).']\n"
     ]
    }
   ],
   "source": [
    "s=\"hello(world!\"\n",
    "print(type(s))\n",
    "print(s.upper())\n",
    "print(s.lower())  \n",
    "print(s.replace(\"world\",\"python\"))\n",
    "print(s.split(\",\"))\n",
    "print(s.strip())\n",
    "p=\"Find the normalization transformation window to viewport, with window, lower left corner at (1,1) and upper right corner at (3,5) onto a viewport with lower left corner at (0,0) and upper right corner at (2,2).\"\n",
    "print(p.split(\"k\"))"
   ]
  },
  {
   "cell_type": "markdown",
   "metadata": {},
   "source": [
    "# int Class \n",
    "the int class represents integers and provides mathematical operations."
   ]
  },
  {
   "cell_type": "code",
   "execution_count": null,
   "metadata": {},
   "outputs": [
    {
     "name": "stdout",
     "output_type": "stream",
     "text": [
      "4\n",
      "15\n",
      "100\n"
     ]
    }
   ],
   "source": [
    "x=10\n",
    "print(x.bit_length())\n",
    "\n",
    "print(x.__add__(5))\n",
    "\n",
    "print(int(\"100\"))\n"
   ]
  },
  {
   "cell_type": "code",
   "execution_count": 11,
   "metadata": {},
   "outputs": [
    {
     "name": "stdout",
     "output_type": "stream",
     "text": [
      "car:tesla model-2\n",
      "Price:2500\n"
     ]
    }
   ],
   "source": [
    "# general class \n",
    "class Car:\n",
    "    def __init__(self,brand,model,price): # constructor \n",
    "        self.brand=brand\n",
    "        self.model=model\n",
    "        self.price=price\n",
    "    # this class is with single method \n",
    "    def display_info(self):\n",
    "        print(f\"car:{self.brand} {self.model}\")\n",
    "    def display_price(self):\n",
    "        print(f\"Price:{self.price}\")\n",
    "\n",
    "\n",
    "# creating an object                        \n",
    "car1=Car(\"tesla\",\"model-2\",2500)\n",
    "car1.display_info()\n",
    "car1.display_price()"
   ]
  },
  {
   "cell_type": "code",
   "execution_count": 13,
   "metadata": {},
   "outputs": [
    {
     "name": "stdout",
     "output_type": "stream",
     "text": [
      "9\n",
      "8\n",
      "5.0\n"
     ]
    }
   ],
   "source": [
    "# class with multiple methods\n",
    "class Calculator:\n",
    "    def add(self,a,b):\n",
    "        return a+b\n",
    "    def multiply(self,a,b):\n",
    "        return a*b\n",
    "    def division(self,a,b):\n",
    "        return a/b\n",
    "    \n",
    "calc=Calculator()\n",
    "print(calc.add(5,4))\n",
    "print(calc.multiply(2,4))\n",
    "print(calc.division(10,2))\n"
   ]
  },
  {
   "cell_type": "markdown",
   "metadata": {},
   "source": [
    "# Extending One Class to Another (inheritance)\n"
   ]
  },
  {
   "cell_type": "code",
   "execution_count": null,
   "metadata": {},
   "outputs": [
    {
     "name": "stdout",
     "output_type": "stream",
     "text": [
      "Bark!\n",
      "Base Animal method can be called from dog:\n",
      "Bark!\n",
      "\n",
      "Inheritance check:\n",
      "Is Dog a subclass of Animal? True\n",
      "Is d an instance of dog? True\n",
      "Is d an instance of Animal? True\n",
      "------------------------------\n"
     ]
    }
   ],
   "source": [
    "class Animal:\n",
    "    def make_sound(self):\n",
    "        print(\"Some generic sound\")\n",
    "\n",
    "class Dog(Animal):\n",
    "    def make_sound(self):\n",
    "        print(\"Bark!\")\n",
    "\n",
    "d=Dog()\n",
    "d.make_sound()\n",
    "print(\"Base Animal method can be called from dog:\")\n",
    "d.make_sound() # shows inherited method \n",
    "\n",
    "# Check inheritance relationship \n",
    "print(\"\\nInheritance check:\")\n",
    "print(f\"Is Dog a subclass of Animal? {issubclass(Dog,Animal)}\")\n",
    "print(f\"Is d an instance of dog? {isinstance(d,Dog)}\")\n",
    "print(f\"Is d an instance of Animal? {isinstance(d,Animal)}\")\n",
    "print(\"-\"*30)\n",
    "class Cat:\n",
    "    def m"
   ]
  }
 ],
 "metadata": {
  "kernelspec": {
   "display_name": "Python 3",
   "language": "python",
   "name": "python3"
  },
  "language_info": {
   "codemirror_mode": {
    "name": "ipython",
    "version": 3
   },
   "file_extension": ".py",
   "mimetype": "text/x-python",
   "name": "python",
   "nbconvert_exporter": "python",
   "pygments_lexer": "ipython3",
   "version": "3.12.9"
  }
 },
 "nbformat": 4,
 "nbformat_minor": 2
}
