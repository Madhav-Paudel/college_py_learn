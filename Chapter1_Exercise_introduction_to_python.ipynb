{
 "cells": [
  {
   "cell_type": "markdown",
   "metadata": {},
   "source": [
    "### Utilize all the concepts you learned from chapter 1. \n",
    "#### Feel free to edit and add the tasks. "
   ]
  },
  {
   "cell_type": "markdown",
   "metadata": {},
   "source": [
    "##### Q1. Write a code demonstrating the sum of two numbers. "
   ]
  },
  {
   "cell_type": "code",
   "execution_count": 1,
   "metadata": {},
   "outputs": [
    {
     "name": "stdout",
     "output_type": "stream",
     "text": [
      "The sum is 10\n"
     ]
    }
   ],
   "source": [
    "# Write your code here.\n",
    "a=int(input(\"enter first number\"))\n",
    "b=int(input(\"enter second number\"))\n",
    "sum =a+b\n",
    "print(f\"The sum is {sum}\")"
   ]
  },
  {
   "cell_type": "markdown",
   "metadata": {},
   "source": [
    "##### Q2. Define few variables and print their types."
   ]
  },
  {
   "cell_type": "code",
   "execution_count": 2,
   "metadata": {},
   "outputs": [
    {
     "name": "stdout",
     "output_type": "stream",
     "text": [
      "this is <class 'int'> type variable\n",
      "this is <class 'float'> type variable\n",
      "this is <class 'str'> type variable\n"
     ]
    }
   ],
   "source": [
    "# Write your code here.\n",
    "var1=int(input(\"enter integer value\"))\n",
    "var2=float(input(\"enter float value\"))\n",
    "var3=input(\"enter your name\")\n",
    "print(f\"this is {type(var1)} type variable\")\n",
    "print(f\"this is {type(var2)} type variable\")\n",
    "print(f\"this is {type(var3)} type variable\")"
   ]
  },
  {
   "cell_type": "markdown",
   "metadata": {},
   "source": [
    "##### Q3. Write a code defining a list and accessing it's elements. "
   ]
  },
  {
   "cell_type": "code",
   "execution_count": 6,
   "metadata": {},
   "outputs": [
    {
     "name": "stdout",
     "output_type": "stream",
     "text": [
      "['apple', 'banana', 'watermelon', 'ball']\n",
      "['apple', 'watermelon', 'ball']\n"
     ]
    }
   ],
   "source": [
    "# Write your code here.\n",
    "fruits=[\"apple\",\"banana\",\"watermelon\"]\n",
    "fruits.append(\"ball\")\n",
    "print(fruits)\n",
    "# here pop is used for deleting items \n",
    "fruits.pop(1)\n",
    "print(fruits)\n",
    "\n"
   ]
  },
  {
   "cell_type": "markdown",
   "metadata": {},
   "source": [
    "##### Q5. Write a code to convert a string to an integer. ( Hint: Take a number as an input )"
   ]
  },
  {
   "cell_type": "code",
   "execution_count": 9,
   "metadata": {},
   "outputs": [
    {
     "name": "stdout",
     "output_type": "stream",
     "text": [
      "8\n"
     ]
    }
   ],
   "source": [
    "# Write your code here.\n",
    "number=int(input(\"enter number\"))\n",
    "print(number)"
   ]
  },
  {
   "cell_type": "markdown",
   "metadata": {},
   "source": [
    "##### Q6. Take two string inputs, and concatenate them."
   ]
  },
  {
   "cell_type": "code",
   "execution_count": 10,
   "metadata": {},
   "outputs": [
    {
     "name": "stdout",
     "output_type": "stream",
     "text": [
      "The string after concatenating is makffllkm\n"
     ]
    }
   ],
   "source": [
    "# Write your code here.\n",
    "string1 = input(\"enter first string \")\n",
    "string2 = input(\"enter second string \")\n",
    "print(f\"The string after concatenating is {string1 + ' ' + string2}\")"
   ]
  },
  {
   "cell_type": "markdown",
   "metadata": {},
   "source": [
    "##### Q7. Create dictionary defining an object and access its values."
   ]
  },
  {
   "cell_type": "code",
   "execution_count": 11,
   "metadata": {},
   "outputs": [
    {
     "name": "stdout",
     "output_type": "stream",
     "text": [
      "Madhav\n",
      "12\n",
      "Bansgadhi\n"
     ]
    }
   ],
   "source": [
    "# Write your code here.\n",
    "Peopleinfo={\"Name\":\"Madhav\",\n",
    "            \"Age\":12,\n",
    "            \"Adderess\":\"Bansgadhi\"\n",
    "            }\n",
    "print(Peopleinfo[\"Name\"])\n",
    "print(Peopleinfo[\"Age\"])\n",
    "print(Peopleinfo[\"Adderess\"])\n",
    "\n"
   ]
  },
  {
   "cell_type": "markdown",
   "metadata": {},
   "source": [
    "##### Q8. Write a code that demonstrates the use of floating point numbers and arithmetic operations."
   ]
  },
  {
   "cell_type": "code",
   "execution_count": 14,
   "metadata": {},
   "outputs": [
    {
     "name": "stdout",
     "output_type": "stream",
     "text": [
      "The sum is 11.498000\n"
     ]
    }
   ],
   "source": [
    "# Write your code here.\n",
    "num1=float(input(\"enter first  float number \"))\n",
    "num2=float(input(\"enter second  float number \"))\n",
    "sum=num1+num2\n",
    "sub=num1-num2\n",
    "div=num1/num2\n",
    "print(f\"The sum is {sum:.2f}\")\n",
    "print(f\"The subtraction is {sub:.2f}\")\n",
    "print(f\"The division is {div:.2f}\")\n",
    "\n",
    "\n"
   ]
  },
  {
   "cell_type": "markdown",
   "metadata": {},
   "source": [
    "#### Q9. Write a code to demonstrate the difference between mutable and immutable types."
   ]
  },
  {
   "cell_type": "code",
   "execution_count": 16,
   "metadata": {},
   "outputs": [
    {
     "name": "stdout",
     "output_type": "stream",
     "text": [
      "The value of x is: 5\n",
      "The value of y is: 5\n",
      "The value of x is: 4\n",
      "The value of y is: 5\n",
      "[1, 2, 3, 4]\n",
      "[1, 2, 3, 4, 5]\n"
     ]
    }
   ],
   "source": [
    "# Write your code here.\n",
    "x=int(input(\"enter number\"))\n",
    "y=x\n",
    "print(f\"The value of x is: {x}\")\n",
    "\n",
    "print(f\"The value of y is: {y}\")\n",
    "# here the value of y will not change a after changing the value of x as integer is immutable \n",
    "x=int(input(\"enter number\"))\n",
    "\n",
    "print(f\"The value of x is: {x}\")\n",
    "print(f\"The value of y is: {y}\")\n",
    "num=[1,2,3,4]\n",
    "\n",
    "print(num)\n",
    "num.append(5)\n",
    "print(num)\n",
    "\n"
   ]
  },
  {
   "cell_type": "markdown",
   "metadata": {},
   "source": [
    "### Q10. Write a simple program utilizing all the concepts you learned from chapter 1. "
   ]
  },
  {
   "cell_type": "code",
   "execution_count": 20,
   "metadata": {},
   "outputs": [
    {
     "name": "stdout",
     "output_type": "stream",
     "text": [
      "Madhav\n",
      "john\n",
      "dikesh\n",
      "-------_______--------\n",
      "Madhav\n",
      "john\n",
      "dikesh\n",
      "kopila\n"
     ]
    }
   ],
   "source": [
    "# Write your code here.\n",
    "persons=[\"Madhav\",\"john\",\"dikesh\"]\n",
    "for person in persons:\n",
    "    print(person)\n",
    "\n",
    "persons.append(\"kopila\")\n",
    "print(\"-------_______--------\")\n",
    "for person in persons:\n",
    "    print(person)\n",
    "num1=float(input(\"enter first  float number \"))\n",
    "num2=float(input(\"enter second  float number \"))\n",
    "sum=num1+num2\n",
    "sub=num1-num2\n",
    "print(f\"The sum is {sum:.2f}\")\n",
    "print(f\"The subtraction is {sub:.2f}\")\n",
    "string1 = input(\"enter first string \")\n",
    "string2 = input(\"enter second string \")\n",
    "print(f\"The string after concatenating is {string1 + ' ' + string2}\")"
   ]
  },
  {
   "cell_type": "markdown",
   "metadata": {},
   "source": [
    "# **Thank You !!!**"
   ]
  },
  {
   "cell_type": "markdown",
   "metadata": {},
   "source": []
  }
 ],
 "metadata": {
  "kernelspec": {
   "display_name": "Python 3",
   "language": "python",
   "name": "python3"
  },
  "language_info": {
   "codemirror_mode": {
    "name": "ipython",
    "version": 3
   },
   "file_extension": ".py",
   "mimetype": "text/x-python",
   "name": "python",
   "nbconvert_exporter": "python",
   "pygments_lexer": "ipython3",
   "version": "3.12.8"
  }
 },
 "nbformat": 4,
 "nbformat_minor": 2
}
