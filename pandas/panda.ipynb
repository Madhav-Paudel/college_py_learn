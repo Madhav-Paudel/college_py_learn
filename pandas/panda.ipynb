{
 "cells": [
  {
   "cell_type": "code",
   "execution_count": null,
   "metadata": {},
   "outputs": [
    {
     "name": "stdout",
     "output_type": "stream",
     "text": [
      "     name  age       city\n",
      "0    john   25  bansgadhi\n",
      "1  madhab   35      jhapa\n",
      "2  dikesh   24    pokhara\n",
      "3    john   25  bansgadhi\n",
      "4    john   25  bansgadhi\n"
     ]
    }
   ],
   "source": [
    "import pandas as pd\n",
    "data = [\n",
    "    {'name': 'john', 'age': 25, 'city': 'bansgadhi'},\n",
    "    {'name': 'madhab', 'age': 35, 'city': 'jhapa'},\n",
    "    {'name': 'dikesh', 'age': 24, 'city': 'pokhara'}\n",
    "]\n",
    "\n",
    "data.extend(\n",
    "    [\n",
    "        {'name': 'john', 'age': 22, 'city': 'bansgadhi'},\n",
    "        {'name': 'john', 'age': 20, 'city': 'bansgadhi'}\n",
    "    ]\n",
    ")\n",
    "# convert list to dataframe\n",
    "df = pd.DataFrame(data)\n",
    "\n",
    "print(df)"
   ]
  },
  {
   "cell_type": "code",
   "execution_count": 5,
   "metadata": {},
   "outputs": [
    {
     "name": "stdout",
     "output_type": "stream",
     "text": [
      "<bound method DataFrame.info of      name  age       city\n",
      "0    john   25  bansgadhi\n",
      "1  madhab   35      jhapa\n",
      "2  dikesh   24    pokhara\n",
      "3    john   25  bansgadhi\n",
      "4    john   25  bansgadhi>\n"
     ]
    }
   ],
   "source": [
    "print(df.info)\n"
   ]
  },
  {
   "cell_type": "code",
   "execution_count": 6,
   "metadata": {},
   "outputs": [
    {
     "name": "stdout",
     "output_type": "stream",
     "text": [
      "<bound method NDFrame.describe of      name  age       city\n",
      "0    john   25  bansgadhi\n",
      "1  madhab   35      jhapa\n",
      "2  dikesh   24    pokhara\n",
      "3    john   25  bansgadhi\n",
      "4    john   25  bansgadhi>\n"
     ]
    }
   ],
   "source": [
    "print(df.describe)\n"
   ]
  },
  {
   "cell_type": "code",
   "execution_count": 7,
   "metadata": {},
   "outputs": [
    {
     "name": "stdout",
     "output_type": "stream",
     "text": [
      "\n",
      "Column Name: ['name', 'age', 'city']\n",
      "\n",
      "First 2 rows:\n",
      "     name  age       city\n",
      "0    john   25  bansgadhi\n",
      "1  madhab   35      jhapa\n",
      "\n",
      "Last 2 rows:\n",
      "   name  age       city\n",
      "3  john   25  bansgadhi\n",
      "4  john   25  bansgadhi\n"
     ]
    }
   ],
   "source": [
    "# Basic data exploration \n",
    "print(\"\\nColumn Name:\",df.columns.tolist())\n",
    "print(\"\\nFirst 2 rows:\")\n",
    "print(df.head(2))\n",
    "print(\"\\nLast 2 rows:\")\n",
    "print(df.tail(2))"
   ]
  },
  {
   "cell_type": "code",
   "execution_count": 9,
   "metadata": {},
   "outputs": [
    {
     "name": "stdout",
     "output_type": "stream",
     "text": [
      "\n",
      "Age Statistics\n",
      "Average ages: 26.8\n",
      "Minimum age: 24\n",
      "Maximum age: 35\n"
     ]
    }
   ],
   "source": [
    "# Basic statistics and aggregations \n",
    "print(\"\\nAge Statistics\")\n",
    "print(\"Average ages:\",df['age'].mean())\n",
    "print(\"Minimum age:\",df['age'].min())\n",
    "print(\"Maximum age:\",df['age'].max())"
   ]
  },
  {
   "cell_type": "code",
   "execution_count": null,
   "metadata": {},
   "outputs": [],
   "source": [
    "# Filtering and sorting \n",
    "print(\"\\n People older than 30:\")\n",
    "ageG30=df[df['age']>30]\n",
    "ageG30\n"
   ]
  }
 ],
 "metadata": {
  "kernelspec": {
   "display_name": "Python 3",
   "language": "python",
   "name": "python3"
  },
  "language_info": {
   "codemirror_mode": {
    "name": "ipython",
    "version": 3
   },
   "file_extension": ".py",
   "mimetype": "text/x-python",
   "name": "python",
   "nbconvert_exporter": "python",
   "pygments_lexer": "ipython3",
   "version": "3.11.9"
  }
 },
 "nbformat": 4,
 "nbformat_minor": 2
}
