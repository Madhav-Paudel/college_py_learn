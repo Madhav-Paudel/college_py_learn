{
 "cells": [
  {
   "cell_type": "code",
   "execution_count": 21,
   "metadata": {},
   "outputs": [
    {
     "name": "stdout",
     "output_type": "stream",
     "text": [
      "hello world\n"
     ]
    }
   ],
   "source": [
    "print(\"hello world\")\n"
   ]
  },
  {
   "cell_type": "code",
   "execution_count": 22,
   "metadata": {},
   "outputs": [
    {
     "name": "stdout",
     "output_type": "stream",
     "text": [
      "2\n",
      "3\n",
      "4\n",
      "5\n",
      "[6, 9, 12, 15]\n"
     ]
    }
   ],
   "source": [
    "list1=[2,3,4,5]\n",
    "list2=[]\n",
    "for i in list1:\n",
    "\n",
    "    print(i)\n",
    "    list2.append(i*3)\n",
    "\n",
    "print(list2)\n"
   ]
  },
  {
   "cell_type": "code",
   "execution_count": 23,
   "metadata": {},
   "outputs": [
    {
     "ename": "NameError",
     "evalue": "name 'co' is not defined",
     "output_type": "error",
     "traceback": [
      "\u001b[1;31m---------------------------------------------------------------------------\u001b[0m",
      "\u001b[1;31mNameError\u001b[0m                                 Traceback (most recent call last)",
      "Cell \u001b[1;32mIn[23], line 3\u001b[0m\n\u001b[0;32m      1\u001b[0m \u001b[38;5;66;03m# exampel of while loop\u001b[39;00m\n\u001b[0;32m      2\u001b[0m count\u001b[38;5;241m=\u001b[39m\u001b[38;5;241m0\u001b[39m\n\u001b[1;32m----> 3\u001b[0m \u001b[38;5;28;01mwhile\u001b[39;00m i \u001b[38;5;241m!=\u001b[39m \u001b[43mco\u001b[49m :\n\u001b[0;32m      4\u001b[0m     \u001b[38;5;28mprint\u001b[39m(i)\n\u001b[0;32m      5\u001b[0m     count\u001b[38;5;241m+\u001b[39m\u001b[38;5;241m=\u001b[39m\u001b[38;5;241m1\u001b[39m\n",
      "\u001b[1;31mNameError\u001b[0m: name 'co' is not defined"
     ]
    }
   ],
   "source": [
    "# exampel of while loop\n",
    "count=0\n",
    "while i != co :\n",
    "    print(i)\n",
    "    count+=1"
   ]
  },
  {
   "cell_type": "code",
   "execution_count": 10,
   "metadata": {},
   "outputs": [
    {
     "name": "stdout",
     "output_type": "stream",
     "text": [
      "1\n",
      "3\n",
      "5\n",
      "7\n",
      "9\n",
      "11\n",
      "13\n",
      "15\n",
      "17\n",
      "19\n"
     ]
    }
   ],
   "source": [
    "# example of continue statement\n",
    "for i in range(20):\n",
    "    if i%2==0:\n",
    "        continue\n",
    "    print(i)"
   ]
  },
  {
   "cell_type": "code",
   "execution_count": 7,
   "metadata": {},
   "outputs": [
    {
     "name": "stdout",
     "output_type": "stream",
     "text": [
      "0\n",
      "1\n",
      "2\n",
      "3\n",
      "4\n",
      "5\n",
      "6\n",
      "7\n",
      "8\n",
      "9\n",
      "10\n",
      "11\n",
      "12\n",
      "bad luck\n"
     ]
    }
   ],
   "source": [
    "# example of break statement\n",
    "for i in range(0,15):\n",
    "    if i==13:\n",
    "        print(\"bad luck\")\n",
    "        break\n",
    "    print(i)"
   ]
  },
  {
   "cell_type": "code",
   "execution_count": 13,
   "metadata": {},
   "outputs": [],
   "source": [
    "# pass statement \n",
    "for i in range(10):\n",
    "    pass\n"
   ]
  },
  {
   "cell_type": "code",
   "execution_count": 2,
   "metadata": {},
   "outputs": [
    {
     "name": "stdout",
     "output_type": "stream",
     "text": [
      "i:1,j:1\n",
      "i:1,j:2\n",
      "i:1,j:3\n",
      "i:1,j:4\n",
      "i:1,j:5\n",
      "i:1,j:6\n",
      "i:2,j:1\n",
      "i:2,j:2\n",
      "i:2,j:3\n",
      "i:2,j:4\n",
      "i:2,j:5\n",
      "i:2,j:6\n",
      "i:3,j:1\n",
      "i:3,j:2\n",
      "i:3,j:3\n",
      "i:3,j:4\n",
      "i:3,j:5\n",
      "i:3,j:6\n",
      "i:4,j:1\n",
      "i:4,j:2\n",
      "i:4,j:3\n",
      "i:4,j:4\n",
      "i:4,j:5\n",
      "i:4,j:6\n",
      "i:5,j:1\n",
      "i:5,j:2\n",
      "i:5,j:3\n",
      "i:5,j:4\n",
      "i:5,j:5\n",
      "i:5,j:6\n"
     ]
    }
   ],
   "source": [
    "# nested loop\n",
    "for i in range(5):\n",
    "    for j in range(6):\n",
    "        print(f\"i:{i+1},j:{j+1}\")"
   ]
  },
  {
   "cell_type": "code",
   "execution_count": 11,
   "metadata": {},
   "outputs": [
    {
     "name": "stdout",
     "output_type": "stream",
     "text": [
      "* \n",
      "* * \n",
      "* * * \n",
      "* * * * \n",
      "* * * * * \n",
      "* * * * * * \n",
      "* * * * * * * \n",
      "* * * * * * * * \n",
      "* * * * * * * * * \n",
      "* * * * * * * * * * \n"
     ]
    }
   ],
   "source": [
    "# printing random triangle pattern\n",
    "for row in range(10):\n",
    "    for col in range(row+1):\n",
    "        print(\"*\",end=\" \")\n",
    "    print(\"\\r\")"
   ]
  },
  {
   "cell_type": "code",
   "execution_count": 14,
   "metadata": {},
   "outputs": [
    {
     "name": "stdout",
     "output_type": "stream",
     "text": [
      "***0\n",
      "***1\n",
      "***2\n",
      "***3\n",
      "***4\n"
     ]
    }
   ],
   "source": [
    "# printing triangle\n",
    "for row in range(5):\n",
    "    for j in range()\n",
    "    print(3*\"*\",end='')\n",
    "    "
   ]
  },
  {
   "cell_type": "code",
   "execution_count": null,
   "metadata": {},
   "outputs": [],
   "source": [
    "# printing diamond pattern\n",
    "n=5\n",
    "for i in range(1,2*n):\n",
    "    if n="
   ]
  },
  {
   "cell_type": "code",
   "execution_count": 15,
   "metadata": {},
   "outputs": [
    {
     "name": "stdout",
     "output_type": "stream",
     "text": [
      "0\n",
      "1\n",
      "2\n",
      "3\n",
      "4\n",
      "loop completed!\n"
     ]
    }
   ],
   "source": [
    "# else in loops \n",
    "for i in range(5):\n",
    "    print(i)\n",
    "else:\n",
    "    print(\"loop completed!\")"
   ]
  },
  {
   "cell_type": "code",
   "execution_count": 16,
   "metadata": {},
   "outputs": [
    {
     "name": "stdout",
     "output_type": "stream",
     "text": [
      "hello,madhav!\n"
     ]
    }
   ],
   "source": [
    "# function\n",
    "# keyword is def function_name():\n",
    "def greet(name):\n",
    "    print(f\"hello,{name}!\")\n",
    "\n",
    "# function calling\n",
    "greet(\"madhav\")\n",
    "\n"
   ]
  },
  {
   "cell_type": "code",
   "execution_count": 17,
   "metadata": {},
   "outputs": [
    {
     "name": "stdout",
     "output_type": "stream",
     "text": [
      "7\n"
     ]
    }
   ],
   "source": [
    "# returning value from function\n",
    "def sum(a,b):\n",
    "    return a+b\n",
    "\n",
    "x=int(input(\"enter number\"))\n",
    "y=int(input(\"enter another number\"))\n",
    "result=sum(x,y)\n",
    "print(result)\n",
    "\n",
    "\n"
   ]
  },
  {
   "cell_type": "code",
   "execution_count": null,
   "metadata": {},
   "outputs": [
    {
     "name": "stdout",
     "output_type": "stream",
     "text": [
      "hello,madhav\n"
     ]
    }
   ],
   "source": [
    "# default arguments\n",
    "def greet(name=\"user\"):\n",
    "    print(f\"hello,{name}\")\n",
    "value=input(\"enter name\")\n",
    "greet(value)\n"
   ]
  },
  {
   "cell_type": "markdown",
   "metadata": {},
   "source": [
    "lambda function "
   ]
  },
  {
   "cell_type": "code",
   "execution_count": 24,
   "metadata": {},
   "outputs": [
    {
     "name": "stdout",
     "output_type": "stream",
     "text": [
      "25\n",
      "36\n"
     ]
    }
   ],
   "source": [
    "# lambda function \n",
    "def squar_it(a):\n",
    "    return a**2\n",
    "# this is different concept \n",
    "square_lambda=lambda num:num**2\n",
    "\n",
    "print(square_lambda(5))\n",
    "# this is differnet\n",
    "print(squar_it(6))"
   ]
  },
  {
   "cell_type": "code",
   "execution_count": 26,
   "metadata": {},
   "outputs": [
    {
     "name": "stdout",
     "output_type": "stream",
     "text": [
      "[1, 4, 9, 16, 25, 36, 49]\n"
     ]
    }
   ],
   "source": [
    "# lambda with map\n",
    "# you map and filter haru higher order function\n",
    "\n",
    "number=[1,2,3,4,5,6,7]\n",
    "squared_number=list(map(lambda num:num**2,number))\n",
    "print(squared_number)\n",
    "# lambda with filter\n",
    "even_numbers=list(filter(lambda num:num%2==0,number))\n"
   ]
  }
 ],
 "metadata": {
  "kernelspec": {
   "display_name": "Python 3",
   "language": "python",
   "name": "python3"
  },
  "language_info": {
   "codemirror_mode": {
    "name": "ipython",
    "version": 3
   },
   "file_extension": ".py",
   "mimetype": "text/x-python",
   "name": "python",
   "nbconvert_exporter": "python",
   "pygments_lexer": "ipython3",
   "version": "3.12.8"
  }
 },
 "nbformat": 4,
 "nbformat_minor": 2
}
